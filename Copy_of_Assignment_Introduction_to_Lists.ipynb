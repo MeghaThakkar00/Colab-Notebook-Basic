{
 "cells": [
  {
   "cell_type": "markdown",
   "metadata": {
    "id": "t4O7WDUFjkFq"
   },
   "source": [
    "## <u>While doing this assignment only use those concepts which have been taught till now</u>"
   ]
  },
  {
   "cell_type": "markdown",
   "metadata": {
    "id": "KB9ZI2xAjkF6"
   },
   "source": [
    "## <u>Problem 1</u>\n",
    "\n",
    "A list contains the average daily temperature(in degree Celsius) of a city over a particular week. Write a Python code to swap the highest and the lowest temperatures"
   ]
  },
  {
   "cell_type": "code",
   "execution_count": 3,
   "metadata": {
    "id": "O3ZtUcxsjkF7"
   },
   "outputs": [],
   "source": [
    "# A list containing average daily temperature over a week \n",
    "temperatures = [34, 40, 29, 33, 42, 37, 39 ]\n",
    "\n",
    "# The expected output \n",
    "# output_temperatures = [34, 40, 42, 33, 29, 37, 39]"
   ]
  },
  {
   "cell_type": "code",
   "execution_count": 4,
   "metadata": {
    "id": "HRFHv7OXjkGR"
   },
   "outputs": [],
   "source": [
    "# Store the highest temperature\n",
    "max_temp = max(temperatures)\n",
    "\n",
    "# Index of the element with the highest temperature\n",
    "max_temp_index = temperatures.index(max_temp)"
   ]
  },
  {
   "cell_type": "code",
   "execution_count": 6,
   "metadata": {
    "id": "8lsfVKbcjkGW"
   },
   "outputs": [],
   "source": [
    "# Store the lowest temperature \n",
    "min_temp = min(temperatures)\n",
    "\n",
    "# Index of the element with the lowest temperature\n",
    "min_temp_index = temperatures.index(min_temp)"
   ]
  },
  {
   "cell_type": "code",
   "execution_count": 7,
   "metadata": {
    "colab": {
     "base_uri": "https://localhost:8080/"
    },
    "id": "W8UkX2IHjkGc",
    "outputId": "dc481bed-75fb-44f7-d5e2-868dfe804dc5"
   },
   "outputs": [],
   "source": [
    "# Swap the highest and the lowest temperatures\n",
    "temperatures[max_temp_index] = min_temp\n",
    "temperatures[min_temp_index] = max_temp"
   ]
  },
  {
   "cell_type": "code",
   "execution_count": 8,
   "metadata": {
    "colab": {
     "base_uri": "https://localhost:8080/"
    },
    "id": "2UpeOQ7qjkGg",
    "outputId": "16890ce3-35c9-4c15-f79d-b45653cef8e6"
   },
   "outputs": [
    {
     "name": "stdout",
     "output_type": "stream",
     "text": [
      "[34, 40, 42, 33, 29, 37, 39]\n"
     ]
    }
   ],
   "source": [
    "# Print the output list\n",
    "print(temperatures)"
   ]
  },
  {
   "cell_type": "markdown",
   "metadata": {
    "id": "zxqe73yrjkGi"
   },
   "source": [
    "\n",
    "## <u>Problem 2 </u>\n",
    "\n",
    "### Measures of Averages\n",
    "\n",
    "* Mean of a group is defined as the sum of the elements in the group divided by the number of elements in the group.\n",
    "* Median is the middle number in a <b>sorted</b>, ascending or descending, list of numbers. If the list has $N$ numbers where $N$ is odd, then median is the element in the middle i.e, $(\\frac{N+1}{2})^{th}$ element. If $N$ is even, then median is the mean of $(\\frac{N}{2})^{th}$ and $(\\frac{N}{2}+1)^{th}$ elements"
   ]
  },
  {
   "cell_type": "code",
   "execution_count": 11,
   "metadata": {
    "id": "TNWp2uyVjkGi"
   },
   "outputs": [],
   "source": [
    "# List of product prices\n",
    "prod_price_list = [400, 250, 800, 550, 600, 820, 720, 15000, 360,250]"
   ]
  },
  {
   "cell_type": "code",
   "execution_count": 12,
   "metadata": {
    "colab": {
     "base_uri": "https://localhost:8080/"
    },
    "id": "KwenpH43jkGm",
    "outputId": "c53a3a84-214c-46f7-96a3-6aa49263e25e"
   },
   "outputs": [
    {
     "name": "stdout",
     "output_type": "stream",
     "text": [
      "1975.0\n"
     ]
    }
   ],
   "source": [
    "# Calculate the mean of the product prices. Use list functions. Also print the mean_price\n",
    "mean_price = sum(prod_price_list)/len(prod_price_list)\n",
    "print(mean_price)"
   ]
  },
  {
   "cell_type": "markdown",
   "metadata": {
    "id": "gTojysiqjkGr"
   },
   "source": [
    "### Calculate the median price"
   ]
  },
  {
   "cell_type": "code",
   "execution_count": 13,
   "metadata": {
    "colab": {
     "base_uri": "https://localhost:8080/"
    },
    "id": "5SBpWBGEjkGr",
    "outputId": "f51c9066-39ca-47b2-a2cc-8a94d9127005"
   },
   "outputs": [
    {
     "name": "stdout",
     "output_type": "stream",
     "text": [
      "[250, 250, 360, 400, 550, 600, 720, 800, 820, 15000]\n"
     ]
    }
   ],
   "source": [
    "# Step 1 - Obtain the sorted list. Print the sorted_prices\n",
    "sorted_prices = sorted(prod_price_list)\n",
    "print(sorted_prices)"
   ]
  },
  {
   "cell_type": "code",
   "execution_count": 14,
   "metadata": {
    "colab": {
     "base_uri": "https://localhost:8080/"
    },
    "id": "29eoJETXjkGu",
    "outputId": "971c351e-3cd6-4148-8dd6-60958485a59a"
   },
   "outputs": [
    {
     "data": {
      "text/plain": [
       "10"
      ]
     },
     "execution_count": 14,
     "metadata": {},
     "output_type": "execute_result"
    }
   ],
   "source": [
    "# Check if the number of elements in the list is even or odd\n",
    "len(sorted_prices)"
   ]
  },
  {
   "cell_type": "code",
   "execution_count": 15,
   "metadata": {
    "colab": {
     "base_uri": "https://localhost:8080/"
    },
    "id": "RiafM7R_jkGy",
    "outputId": "e0d15420-7bd2-4216-ed8d-0d51325c944d"
   },
   "outputs": [
    {
     "name": "stdout",
     "output_type": "stream",
     "text": [
      "575.0\n"
     ]
    }
   ],
   "source": [
    "# Use the corresponding formula to calculate the median and print the median\n",
    "list_length = len(sorted_prices)\n",
    "median_price = (sorted_prices[int(list_length/2)-1] + sorted_prices[int(list_length/2)])/2\n",
    "print(median_price)"
   ]
  },
  {
   "cell_type": "code",
   "execution_count": 16,
   "metadata": {
    "colab": {
     "base_uri": "https://localhost:8080/"
    },
    "id": "brysk47ojkG0",
    "outputId": "59b4ec69-1f7d-43c2-d13a-f366198374e0"
   },
   "outputs": [
    {
     "data": {
      "text/plain": [
       "True"
      ]
     },
     "execution_count": 16,
     "metadata": {},
     "output_type": "execute_result"
    }
   ],
   "source": [
    "# Check which is greater, mean or median\n",
    "mean_price > median_price"
   ]
  },
  {
   "cell_type": "markdown",
   "metadata": {
    "id": "jB0y0UdbjkG3"
   },
   "source": [
    "### Why do you think that is the case??"
   ]
  },
  {
   "cell_type": "markdown",
   "metadata": {
    "id": "_JguWGM_-_ST"
   },
   "source": [
    "### <u>Write your explanation in this text cell</u>\n",
    "\n",
    "Your explanation :  "
   ]
  },
  {
   "cell_type": "markdown",
   "metadata": {
    "id": "J3x3tmzTjkG3"
   },
   "source": [
    "## <u> Problem 3 </u>\n",
    "\n",
    "Having a nested list sometimes might be a bit problematic. An individual was asked to collect the names of companies in the technology sector. While creating the list, by mistake the last three companies were subsumed in a list as shown below. You are required to get rid of the nesting"
   ]
  },
  {
   "cell_type": "code",
   "execution_count": 27,
   "metadata": {
    "id": "6IbY26WqjkG4"
   },
   "outputs": [],
   "source": [
    "# The list of tech companies curated by the individual\n",
    "tech_companies = ['Qualcomm','Google','Apple',['Nvidia','Cisco','Samsung']]\n",
    "\n",
    "# The final list that we want\n",
    "# correct_tech_companies = ['Qualcomm','Google','Apple','Nvidia','Cisco','Samsung']"
   ]
  },
  {
   "cell_type": "code",
   "execution_count": 28,
   "metadata": {
    "colab": {
     "base_uri": "https://localhost:8080/"
    },
    "id": "anVH03bTjkG7",
    "outputId": "3177dd08-650a-4747-a57b-33eb0aafbfb5"
   },
   "outputs": [
    {
     "name": "stdout",
     "output_type": "stream",
     "text": [
      "['Qualcomm', 'Google', 'Apple', 'Nvidia', 'Cisco', 'Samsung']\n"
     ]
    }
   ],
   "source": [
    "# Write your code below\n",
    "last_element = tech_companies[-1]\n",
    "correct_tech_companies = tech_companies[:-1] + last_element\n",
    "print(correct_tech_companies)"
   ]
  },
  {
   "cell_type": "code",
   "execution_count": 29,
   "metadata": {
    "colab": {
     "base_uri": "https://localhost:8080/"
    },
    "id": "BsVsotOGjkG_",
    "outputId": "b887ce7e-ab30-4161-f7eb-80676f121de4"
   },
   "outputs": [
    {
     "name": "stdout",
     "output_type": "stream",
     "text": [
      "['Qualcomm', 'Google', 'Apple', 'Nvidia', 'Cisco', 'Samsung']\n"
     ]
    }
   ],
   "source": [
    "# Do the same task another way\n",
    "tech_companies.remove(last_element)\n",
    "tech_companies.extend(last_element)\n",
    "print(tech_companies)"
   ]
  }
 ],
 "metadata": {
  "colab": {
   "collapsed_sections": [],
   "provenance": []
  },
  "kernelspec": {
   "display_name": "Python 3 (ipykernel)",
   "language": "python",
   "name": "python3"
  },
  "language_info": {
   "codemirror_mode": {
    "name": "ipython",
    "version": 3
   },
   "file_extension": ".py",
   "mimetype": "text/x-python",
   "name": "python",
   "nbconvert_exporter": "python",
   "pygments_lexer": "ipython3",
   "version": "3.9.12"
  }
 },
 "nbformat": 4,
 "nbformat_minor": 1
}
